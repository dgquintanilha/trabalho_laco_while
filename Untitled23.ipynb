{
  "nbformat": 4,
  "nbformat_minor": 0,
  "metadata": {
    "colab": {
      "provenance": [],
      "authorship_tag": "ABX9TyPf82qb007nvZXT2VV4qf3W",
      "include_colab_link": true
    },
    "kernelspec": {
      "name": "python3",
      "display_name": "Python 3"
    },
    "language_info": {
      "name": "python"
    }
  },
  "cells": [
    {
      "cell_type": "markdown",
      "metadata": {
        "id": "view-in-github",
        "colab_type": "text"
      },
      "source": [
        "<a href=\"https://colab.research.google.com/github/dgquintanilha/trabalho_laco_while/blob/main/Untitled23.ipynb\" target=\"_parent\"><img src=\"https://colab.research.google.com/assets/colab-badge.svg\" alt=\"Open In Colab\"/></a>"
      ]
    },
    {
      "cell_type": "code",
      "execution_count": null,
      "metadata": {
        "id": "qZ5zocoKglLL"
      },
      "outputs": [],
      "source": [
        "\"\"\"\n",
        "Faça uma função calculadora que os números e as operações serão feitas pelo usuário.\n",
        "O código deve ficar rodando infinitamente até que o usuário escolha a opção de sair.\n",
        "No início, o programa mostrará a seguinte lista de operações:\n",
        "\n",
        "# 1: Soma\n",
        "# 2: Subtração\n",
        "# 3: Multiplicação\n",
        "# 4: Divisão\n",
        "# 0: Sair\n",
        "\n",
        "Digite o número para a operação correspondente e caso o usuário introduza qualquer outro\n",
        "o sistema deve mostrar a mensagem “Essa opção não existe” e voltar ao menu de opções.\n",
        "\n",
        "Após a seleção, o sistema deve pedir para o usuário inserir o primeiro e segundo valor, um de cada.\n",
        "Depois precisa executar a operação e mostrar o resultado na tela. Quando o usuário escolher a opção “Sair”, o sistema irá parar.\n",
        "\n",
        "É necessário que o sistema mostre as opções sempre que finalizar uma operação e mostrar o resultado.\n",
        "\n",
        "\"\"\"\n",
        "\n",
        "while True:\n",
        "    numero1 = input(\"Digite o primeiro número: \")\n",
        "    numero2 = input(\"Digite o segundo número: \")\n",
        "    operador = input(\"Digite o operador (+, -, *, /): \")\n",
        "\n",
        "    numero1 = float(numero1)\n",
        "    numero2 = float(numero2)\n",
        "\n",
        "    if operador == \"+\":\n",
        "        resultado = numero1 + numero2\n",
        "    elif operador == \"-\":\n",
        "        resultado = numero1 - numero2\n",
        "    elif operador == \"*\":\n",
        "        resultado = numero1 * numero2\n",
        "    elif operador == \"/\":\n",
        "        resultado = numero1 / numero2\n",
        "    else:\n",
        "        print(\"Operador inválido. Tente novamente.\")\n",
        "        continue\n",
        "\n",
        "    print(\"Resultado:\", resultado)\n",
        "\n",
        "    opcao = input(\"Deseja sair? (s/n): \")\n",
        "    if opcao == \"s\":\n",
        "        print(\"Saindo do programa...\")\n",
        "        break\n"
      ]
    }
  ]
}