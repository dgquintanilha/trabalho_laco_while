{
  "nbformat": 4,
  "nbformat_minor": 0,
  "metadata": {
    "colab": {
      "provenance": [],
      "authorship_tag": "ABX9TyOo0NOobLJM1Vgd47mGL5K1",
      "include_colab_link": true
    },
    "kernelspec": {
      "name": "python3",
      "display_name": "Python 3"
    },
    "language_info": {
      "name": "python"
    }
  },
  "cells": [
    {
      "cell_type": "markdown",
      "metadata": {
        "id": "view-in-github",
        "colab_type": "text"
      },
      "source": [
        "<a href=\"https://colab.research.google.com/github/dgquintanilha/trabalho_laco_while/blob/main/Untitled23.ipynb\" target=\"_parent\"><img src=\"https://colab.research.google.com/assets/colab-badge.svg\" alt=\"Open In Colab\"/></a>"
      ]
    },
    {
      "cell_type": "code",
      "execution_count": null,
      "metadata": {
        "id": "qZ5zocoKglLL"
      },
      "outputs": [],
      "source": [
        "while True:\n",
        "    numero1 = input(\"Digite o primeiro número: \")\n",
        "    numero2 = input(\"Digite o segundo número: \")\n",
        "    operador = input(\"Digite o operador (+, -, *, /): \")\n",
        "\n",
        "    numero1 = float(numero1)\n",
        "    numero2 = float(numero2)\n",
        "\n",
        "    if operador == \"+\":\n",
        "        resultado = numero1 + numero2\n",
        "    elif operador == \"-\":\n",
        "        resultado = numero1 - numero2\n",
        "    elif operador == \"*\":\n",
        "        resultado = numero1 * numero2\n",
        "    elif operador == \"/\":\n",
        "        resultado = numero1 / numero2\n",
        "    else:\n",
        "        print(\"Operador inválido. Tente novamente.\")\n",
        "        continue\n",
        "\n",
        "    print(\"Resultado:\", resultado)\n",
        "\n",
        "    opcao = input(\"Deseja sair? (s/n): \")\n",
        "    if opcao == \"s\":\n",
        "        print(\"Saindo do programa...\")\n",
        "        break\n"
      ]
    }
  ]
}